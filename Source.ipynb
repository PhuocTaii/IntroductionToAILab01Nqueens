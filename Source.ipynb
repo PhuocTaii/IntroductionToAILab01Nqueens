{
 "cells": [
  {
   "cell_type": "markdown",
   "id": "745ad49d",
   "metadata": {},
   "source": [
    "# N - Queens problem\n",
    "### Table of contents\n",
    "#####           Support algorithms\n",
    "#####           UCS class\n",
    "#####           A* class   \n",
    "#####           Genetic Algorithm class\n",
    "####           Main program\n",
    "       "
   ]
  },
  {
   "cell_type": "markdown",
   "id": "4d9c68d6",
   "metadata": {},
   "source": [
    "## Support algorithms"
   ]
  },
  {
   "cell_type": "code",
   "execution_count": 1,
   "id": "049dd7ca",
   "metadata": {},
   "outputs": [],
   "source": [
    "import heapq, random\n",
    "import random, time, tracemalloc\n",
    "\n",
    "#function to print NxN board with \"Q\" for queen and \"*\" for others position\n",
    "def print_board(state, n):\n",
    "    for i in range(n):\n",
    "        row = ['*'] * n\n",
    "        row[state[i]] = 'Q'\n",
    "        print(' '.join(row))\n",
    " \n",
    "#function used to count the number of pairs of queens attacking each other\n",
    "def conflict(state):\n",
    "    cnt = 0\n",
    "    for i in range(len(state)):\n",
    "            for j in range(i + 1, len(state)):\n",
    "                if state[i] == state[j] or abs(state[i] - state[j]) == j - i:\n",
    "                    cnt += 1\n",
    "    return cnt"
   ]
  },
  {
   "cell_type": "markdown",
   "id": "99c5f588",
   "metadata": {},
   "source": [
    "## UCS class"
   ]
  },
  {
   "cell_type": "code",
   "execution_count": 2,
   "id": "7d46e536",
   "metadata": {},
   "outputs": [],
   "source": [
    "class UCS:\n",
    "    def __init__(self, n) -> None:\n",
    "        self.n = n \n",
    "\n",
    "    def Solve(self):\n",
    "        startState = [random.randint(0, self.n - 1) for _ in range(self.n)]\n",
    "        frontier = [(0, startState)]\n",
    "        exploredSet = set()\n",
    "        while True:\n",
    "            cost, curState = heapq.heappop(frontier)\n",
    "            \n",
    "            if conflict(curState) == 0:\n",
    "                return curState\n",
    "\n",
    "            exploredSet.add(tuple(curState))\n",
    "\n",
    "            \n",
    "            for i in range(self.n):\n",
    "                for j in range(self.n):\n",
    "                    if curState[i] != j:\n",
    "                        new_state = curState.copy()\n",
    "                        new_state[i] = j\n",
    "                        if tuple(new_state) not in exploredSet:\n",
    "                            heapq.heappush(frontier, (cost + 1, new_state))\n",
    "        return None"
   ]
  },
  {
   "cell_type": "markdown",
   "id": "262d1eb0",
   "metadata": {},
   "source": [
    "## A* class\n"
   ]
  },
  {
   "cell_type": "code",
   "execution_count": 3,
   "id": "76e51889",
   "metadata": {},
   "outputs": [],
   "source": [
    "class AStar:\n",
    "    def __init__(self, n):\n",
    "        self.n = n\n",
    "\n",
    "    def Solve(self):\n",
    "        startState = [random.randint(0, n - 1) for _ in range(n)]\n",
    "        frontier = [(conflict(startState), conflict(startState), 0, startState)]\n",
    "        exploredSet = set()\n",
    "        while True:\n",
    "            f, h, cost, curState = heapq.heappop(frontier)\n",
    "\n",
    "            if h == 0:\n",
    "                return curState\n",
    "\n",
    "            exploredSet.add(tuple(curState))   \n",
    "\n",
    "            for i in range(self.n):\n",
    "                for j in range(self.n):\n",
    "                    if curState[i] != j:\n",
    "                        new_state = curState.copy()\n",
    "                        new_state[i] = j\n",
    "                        if tuple(new_state) not in exploredSet:\n",
    "                            heapq.heappush(frontier, (conflict(new_state) + cost + 1, conflict(new_state) , cost + 1, new_state))\n",
    "        return None"
   ]
  },
  {
   "cell_type": "markdown",
   "id": "b157fd4e",
   "metadata": {},
   "source": [
    "## Genetic Algorithm"
   ]
  },
  {
   "cell_type": "code",
   "execution_count": 4,
   "id": "bb200873",
   "metadata": {},
   "outputs": [],
   "source": [
    "class GeneticAlgorithm:\n",
    "    def __init__(self, n):\n",
    "        self.n = n\n",
    "        self.population_size = 2 * n\n",
    "        self.mutation_rate = 0.8\n",
    "\n",
    "    def generate_individual(self):\n",
    "        return [random.randint(0, n - 1) for _ in range(n)]\n",
    "\n",
    "    def generate_population(self):\n",
    "        # return [self.generate_individual() for _ in range(self.population_size)]\n",
    "        population = []\n",
    "        for _ in range(self.population_size):\n",
    "            state = self.generate_individual()\n",
    "            heapq.heappush(population, [conflict(state), state])\n",
    "        return population\n",
    "    \n",
    "    def selection(self, population):\n",
    "        return [random.choice(population[int(self.n * 1/2):]), random.choice(population[:int(self.n * 1/2)])]\n",
    "\n",
    "\n",
    "    def crossover(self, parent1, parent2):\n",
    "        crossover_point = random.randint(0, self.n - 2)\n",
    "        return parent1[:crossover_point] + parent2[crossover_point:], parent1[crossover_point:] + parent2[:crossover_point]\n",
    "    \n",
    "    def mutate(self, individual):\n",
    "        if random.random() < self.mutation_rate:\n",
    "            index = random.randint(0, n - 1)\n",
    "            individual[index] = random.randint(0, n - 1)           \n",
    "        return individual\n",
    "\n",
    "    def evolve(self, population):\n",
    "        selected = self.selection(population)\n",
    "        while len(population) < self.population_size * 2:\n",
    "            child1, child2 = self.crossover(selected[0][1], selected[1][1])\n",
    "            child1 = self.mutate(child1)\n",
    "            child2 = self.mutate(child2)\n",
    "            if child1 not in [s[1] for s in population]:\n",
    "                heapq.heappush(population, [conflict(child1), child1])\n",
    "            if child2 not in [s[1] for s in population]:\n",
    "                heapq.heappush(population, [conflict(child2), child2])\n",
    "        return population\n",
    "\n",
    "    def Solve(self):\n",
    "        population = self.generate_population()\n",
    "        while True:\n",
    "            individual = heapq.nsmallest(1, population)\n",
    "            if individual[0][0] == 0:\n",
    "                return individual[0][1]\n",
    "            population = self.evolve(population)\n",
    "            # population = heapq.nsmallest(int(self.population_size / 2), population) + heapq.nlargest(int(self.population_size / 2), population)\n",
    "            population = heapq.nsmallest(int(self.population_size), population)\n",
    "            heapq.heapify(population)\n",
    "        return None"
   ]
  },
  {
   "cell_type": "markdown",
   "id": "09fcf419",
   "metadata": {},
   "source": [
    "## Main program"
   ]
  },
  {
   "cell_type": "code",
   "execution_count": 5,
   "id": "ed74b094",
   "metadata": {},
   "outputs": [
    {
     "name": "stdout",
     "output_type": "stream",
     "text": [
      "Enter the amount of queen: 4\n",
      "1. UCS\n",
      "2. A*\n",
      "3. Genetic algorithm\n",
      "Your choice: 2\n",
      "Solution found for 4-Queen problem in test 1:\n",
      "* * Q *\n",
      "Q * * *\n",
      "* * * Q\n",
      "* Q * *\n",
      "Solution found for 4-Queen problem in test 2:\n",
      "* * Q *\n",
      "Q * * *\n",
      "* * * Q\n",
      "* Q * *\n",
      "Solution found for 4-Queen problem in test 3:\n",
      "* * Q *\n",
      "Q * * *\n",
      "* * * Q\n",
      "* Q * *\n",
      "Running time: 1.2248 ms\n",
      "Memory usage: 0.0040 MB\n"
     ]
    }
   ],
   "source": [
    "RUN_TIME = 3\n",
    "runningTime = []\n",
    "consumedMemory = []\n",
    "\n",
    "if __name__ == '__main__':\n",
    "    n = int(input(\"Enter the amount of queen: \"))\n",
    "    print(\"1. UCS\")\n",
    "    print(\"2. A*\")\n",
    "    print(\"3. Genetic algorithm\")\n",
    "    choice = int(input(\"Your choice: \"))\n",
    "    \n",
    "    for i in range (RUN_TIME):\n",
    "        if choice == 1:\n",
    "            problem = UCS(n) \n",
    "            \n",
    "        if choice == 2:\n",
    "            problem = AStar(n)\n",
    "            \n",
    "        if choice == 3:\n",
    "            problem = GeneticAlgorithm(n)\n",
    "        \n",
    "        tracemalloc.start()\n",
    "        startTime = time.time()\n",
    "        \n",
    "        solution = problem.Solve()\n",
    "        \n",
    "        peak = tracemalloc.get_traced_memory()[1]\n",
    "        tracemalloc.stop()\n",
    "        t = (time.time() - startTime)\n",
    "        mem = peak / 1024 ** 2\n",
    "        runningTime.append(t)\n",
    "        consumedMemory.append(mem)\n",
    "        if solution is None:\n",
    "            print(f\"No solution found for {n}-Queen problem in test {i + 1}.\")\n",
    "        else:\n",
    "            print(f\"Solution found for {n}-Queen problem in test {i + 1}:\")\n",
    "            print_board(solution, n)\n",
    "            \n",
    "    print(f\"Running time: {float((sum(runningTime)/ RUN_TIME)) * 1000:.4f} ms\")\n",
    "    print(f\"Memory usage: {float(sum(consumedMemory) / RUN_TIME):.4f} MB\")    "
   ]
  }
 ],
 "metadata": {
  "kernelspec": {
   "display_name": "Python 3 (ipykernel)",
   "language": "python",
   "name": "python3"
  },
  "language_info": {
   "codemirror_mode": {
    "name": "ipython",
    "version": 3
   },
   "file_extension": ".py",
   "mimetype": "text/x-python",
   "name": "python",
   "nbconvert_exporter": "python",
   "pygments_lexer": "ipython3",
   "version": "3.11.3"
  }
 },
 "nbformat": 4,
 "nbformat_minor": 5
}
